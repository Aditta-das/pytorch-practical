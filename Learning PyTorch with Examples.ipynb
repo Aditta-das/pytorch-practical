{
 "cells": [
  {
   "cell_type": "markdown",
   "metadata": {},
   "source": [
    "# We will use a problem of fitting y=sin(x) with a third order polynomial as our running example. The network will have four parameters, and will be trained with gradient descent to fit random data by minimizing the Euclidean distance between the network output and the true output."
   ]
  },
  {
   "cell_type": "code",
   "execution_count": 1,
   "metadata": {},
   "outputs": [],
   "source": [
    "import numpy as np\n",
    "import math"
   ]
  },
  {
   "cell_type": "code",
   "execution_count": 4,
   "metadata": {},
   "outputs": [],
   "source": [
    "x = np.linspace(-math.pi, math.pi, 2000)\n",
    "y = np.sin(x)"
   ]
  },
  {
   "cell_type": "code",
   "execution_count": 5,
   "metadata": {},
   "outputs": [],
   "source": [
    "a = np.random.randn()\n",
    "b = np.random.randn()\n",
    "c = np.random.randn()\n",
    "d = np.random.randn()\n",
    "learning_rate = 1e-6"
   ]
  },
  {
   "cell_type": "code",
   "execution_count": 7,
   "metadata": {},
   "outputs": [
    {
     "name": "stdout",
     "output_type": "stream",
     "text": [
      "99 103.42988841979711\n",
      "199 71.85742043281431\n",
      "299 50.84060533646392\n",
      "399 36.844401385652354\n",
      "499 27.519470973879002\n",
      "599 21.303867298071374\n",
      "699 17.158775310904925\n",
      "799 14.39304843459093\n",
      "899 12.546672548959513\n",
      "999 11.3133450071635\n",
      "1099 10.489024162577255\n",
      "1199 9.937726693798215\n",
      "1299 9.568782966377839\n",
      "1399 9.32170647725409\n",
      "1499 9.156124616953086\n",
      "1599 9.045074984784755\n",
      "1699 8.970540449047235\n",
      "1799 8.920473970054793\n",
      "1899 8.886815175559754\n",
      "1999 8.864167435998365\n",
      "Result: y = -0.00402052148319583 + 0.8622889345184817x + 0.0006936068576175409 x ^2 + -0.09411955673540166 x^3\n"
     ]
    }
   ],
   "source": [
    "for t in range(2000):\n",
    "    y_pred = a + b * x + c * x ** 2 + d * x ** 3\n",
    "    loss = np.square(y_pred - y).sum()\n",
    "    if t % 100 == 99:\n",
    "        print(t, loss)\n",
    "    \n",
    "    grad_y_pred = 2.0 * (y_pred - y)\n",
    "    grab_a = grad_y_pred.sum()\n",
    "    grab_b = (grad_y_pred * x).sum()\n",
    "    grad_c = (grad_y_pred * x ** 2).sum()\n",
    "    grad_d = (grad_y_pred * x ** 3).sum()\n",
    "    \n",
    "    a -= learning_rate * grab_a\n",
    "    b -= learning_rate * grab_b\n",
    "    c -= learning_rate * grad_c\n",
    "    d -= learning_rate * grad_d\n",
    "    \n",
    "print(f\"Result: y = {a} + {b}x + {c} x ^2 + {d} x^3\")"
   ]
  },
  {
   "cell_type": "code",
   "execution_count": 9,
   "metadata": {},
   "outputs": [
    {
     "name": "stdout",
     "output_type": "stream",
     "text": [
      "9 124171.875\n",
      "109 42615.92578125\n",
      "209 34048.6328125\n",
      "309 35271.3828125\n",
      "409 37461.37109375\n",
      "509 39625.4453125\n",
      "609 41602.40625\n",
      "709 43363.140625\n",
      "809 44910.6484375\n",
      "909 46258.87890625\n",
      "1009 47425.6796875\n",
      "1109 48430.4140625\n",
      "1209 49291.9375\n",
      "1309 50028.2578125\n",
      "1409 50655.7578125\n",
      "1509 51189.5\n",
      "1609 51642.57421875\n",
      "1709 52026.6015625\n",
      "1809 52351.7890625\n",
      "1909 52626.7578125\n",
      "Result : -0.07593779265880585 + 7.33402156829834 x + 0.013100529089570045 x^2 + -1.1880244016647339 x^3\n"
     ]
    }
   ],
   "source": [
    "import torch\n",
    "import math\n",
    "\n",
    "dtype = torch.float\n",
    "device = torch.device(\"cpu\")\n",
    "\n",
    "x = torch.linspace(-math.pi, math.pi, 2000, device=device, dtype=dtype)\n",
    "y = torch.sin(x)\n",
    "\n",
    "a = torch.randn((), device=device, dtype=dtype)\n",
    "b = torch.randn((), device=device, dtype=dtype)\n",
    "c = torch.randn((), device=device, dtype=dtype)\n",
    "d = torch.randn((), device=device, dtype=dtype)\n",
    "\n",
    "lr = 1e-6\n",
    "\n",
    "for t in range(2000):\n",
    "    y_pred = a + b * x + c * x ** 2 + d * x ** 3\n",
    "    loss = (y_pred - y).pow(2).sum().item()\n",
    "    if t % 100 == 9:\n",
    "        print(t, loss)\n",
    "    grad_y_pred = 2.0 * (y_pred - y)\n",
    "    grad_a = grad_y_pred.sum()\n",
    "    grad_b = (grad_y_pred * x).sum()\n",
    "    grad_c = (grad_y_pred * x ** 2).sum()\n",
    "    grad_d = (grad_y_pred * x ** 2).sum()\n",
    "    \n",
    "    a -= lr * grad_a\n",
    "    b -= lr * grad_b\n",
    "    c -= lr * grad_c\n",
    "    d -= lr * grad_d\n",
    "    \n",
    "print(f\"Result : {a.item()} + {b.item()} x + {c.item()} x^2 + {d.item()} x^3\")"
   ]
  },
  {
   "cell_type": "code",
   "execution_count": 15,
   "metadata": {},
   "outputs": [
    {
     "name": "stdout",
     "output_type": "stream",
     "text": [
      "10 106583.0234375\n",
      "110 106583.0234375\n",
      "210 106583.0234375\n",
      "310 106583.0234375\n",
      "410 106583.0234375\n",
      "510 106583.0234375\n",
      "610 106583.0234375\n",
      "710 106583.0234375\n",
      "810 106583.0234375\n",
      "910 106583.0234375\n",
      "1010 106583.0234375\n",
      "1110 106583.0234375\n",
      "1210 106583.0234375\n",
      "1310 106583.0234375\n",
      "1410 106583.0234375\n",
      "1510 106583.0234375\n",
      "1610 106583.0234375\n",
      "1710 106583.0234375\n",
      "1810 106583.0234375\n",
      "1910 106583.0234375\n",
      "Result : 1.0102566480636597 + -0.2916073501110077 x + -1.2082592248916626 x^2 + 0.5446464419364929 x^3\n"
     ]
    }
   ],
   "source": [
    "import torch\n",
    "import math\n",
    "\n",
    "dtype = torch.float\n",
    "device = torch.device(\"cpu\")\n",
    "\n",
    "x = torch.linspace(-math.pi, math.pi, 2000, device=device, dtype=dtype)\n",
    "y = torch.sin(x)\n",
    "\n",
    "a = torch.randn((), device=device, dtype=dtype, requires_grad=True)\n",
    "b = torch.randn((), device=device, dtype=dtype, requires_grad=True)\n",
    "c = torch.randn((), device=device, dtype=dtype, requires_grad=True)\n",
    "d = torch.randn((), device=device, dtype=dtype, requires_grad=True)\n",
    "\n",
    "lr = 1e-6\n",
    "\n",
    "for t in range(2000):\n",
    "    y_pred = a + b * x + c * x ** 2 + d * x ** 3\n",
    "    loss = (y_pred - y).pow(2).sum()\n",
    "    if t % 100 == 10:\n",
    "        print(t, loss.item())\n",
    "        \n",
    "    loss.backward()\n",
    "    \n",
    "    with torch.no_grad():\n",
    "        grad_y_pred = 2.0 * (y_pred - y)\n",
    "        grad_a = grad_y_pred.sum()\n",
    "        grad_b = (grad_y_pred * x).sum()\n",
    "        grad_c = (grad_y_pred * x ** 2).sum()\n",
    "        grad_d = (grad_y_pred * x ** 2).sum()\n",
    "        \n",
    "        a.grad = None\n",
    "        b.grad = None\n",
    "        c.grad = None\n",
    "        d.grad = None\n",
    "    \n",
    "print(f\"Result : {a.item()} + {b.item()} x + {c.item()} x^2 + {d.item()} x^3\")"
   ]
  },
  {
   "cell_type": "code",
   "execution_count": null,
   "metadata": {},
   "outputs": [],
   "source": []
  },
  {
   "cell_type": "code",
   "execution_count": null,
   "metadata": {},
   "outputs": [],
   "source": []
  }
 ],
 "metadata": {
  "kernelspec": {
   "display_name": "Python 3",
   "language": "python",
   "name": "python3"
  },
  "language_info": {
   "codemirror_mode": {
    "name": "ipython",
    "version": 3
   },
   "file_extension": ".py",
   "mimetype": "text/x-python",
   "name": "python",
   "nbconvert_exporter": "python",
   "pygments_lexer": "ipython3",
   "version": "3.7.8"
  }
 },
 "nbformat": 4,
 "nbformat_minor": 4
}
